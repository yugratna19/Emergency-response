{
 "cells": [
  {
   "cell_type": "code",
   "execution_count": 4,
   "metadata": {},
   "outputs": [],
   "source": [
    "import os\n",
    "import shutil"
   ]
  },
  {
   "cell_type": "code",
   "execution_count": 5,
   "metadata": {},
   "outputs": [],
   "source": [
    "def organize_frames_by_video(base_folder):\n",
    "    for folder, prefix in [('violence', 'V'), ('non_violence', 'NV')]:\n",
    "        folder_path = os.path.join(base_folder, folder)\n",
    "        \n",
    "        # Iterate over all files in the folder\n",
    "        for filename in os.listdir(folder_path):\n",
    "            if filename.endswith('.jpg') and filename.startswith(prefix):\n",
    "                # Extract the video number (e.g., 'V_1' or 'NV_1' from 'V_1_frame0.jpg')\n",
    "                video_name = filename.split('_frame')[0]\n",
    "                \n",
    "                # Create a subfolder for the video if it doesn't exist\n",
    "                video_folder_path = os.path.join(folder_path, video_name)\n",
    "                if not os.path.exists(video_folder_path):\n",
    "                    os.makedirs(video_folder_path)\n",
    "                \n",
    "                # Move the image file to the corresponding subfolder\n",
    "                src_path = os.path.join(folder_path, filename)\n",
    "                dest_path = os.path.join(video_folder_path, filename)\n",
    "                shutil.move(src_path, dest_path)"
   ]
  },
  {
   "cell_type": "code",
   "execution_count": 6,
   "metadata": {},
   "outputs": [],
   "source": [
    "if __name__ == '__main__':\n",
    "    # Base folder containing 'violence' and 'non_violence' folders\n",
    "    base_folder = 'violence_dataset'\n",
    "    organize_frames_by_video(base_folder)\n"
   ]
  },
  {
   "cell_type": "code",
   "execution_count": null,
   "metadata": {},
   "outputs": [],
   "source": []
  }
 ],
 "metadata": {
  "kernelspec": {
   "display_name": "base",
   "language": "python",
   "name": "python3"
  },
  "language_info": {
   "codemirror_mode": {
    "name": "ipython",
    "version": 3
   },
   "file_extension": ".py",
   "mimetype": "text/x-python",
   "name": "python",
   "nbconvert_exporter": "python",
   "pygments_lexer": "ipython3",
   "version": "3.12.3"
  }
 },
 "nbformat": 4,
 "nbformat_minor": 2
}
