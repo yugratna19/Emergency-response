{
 "cells": [
  {
   "cell_type": "code",
   "execution_count": 1,
   "metadata": {},
   "outputs": [],
   "source": [
    "import os\n",
    "import shutil"
   ]
  },
  {
   "cell_type": "code",
   "execution_count": 6,
   "metadata": {},
   "outputs": [],
   "source": [
    "# Define paths for the datasets to merge\n",
    "datasets = [\n",
    "    'fight detection.v12i.yolov8',\n",
    "    'gisc.v1i.yolov8',\n",
    "    'violence detection.v2i.yolov8'\n",
    "]"
   ]
  },
  {
   "cell_type": "code",
   "execution_count": 7,
   "metadata": {},
   "outputs": [],
   "source": [
    "# Destination folder for the merged dataset\n",
    "combined_dataset = 'dataset'\n",
    "image_destination = os.path.join(combined_dataset, 'images')\n",
    "label_destination = os.path.join(combined_dataset, 'labels')"
   ]
  },
  {
   "cell_type": "code",
   "execution_count": 10,
   "metadata": {},
   "outputs": [],
   "source": [
    "# Create the combined dataset and its directories 'images and labels'\n",
    "os.makedirs(combined_dataset,exist_ok=True)\n",
    "os.makedirs(image_destination, exist_ok=True)\n",
    "os.makedirs(label_destination, exist_ok=True)"
   ]
  },
  {
   "cell_type": "code",
   "execution_count": 11,
   "metadata": {},
   "outputs": [],
   "source": [
    "# Function to copy files from source to destination\n",
    "def merge_files(source_folder, destination_folder, file_type='images'):\n",
    "    for root, _, files in os.walk(source_folder):\n",
    "        for file in files:\n",
    "            if file.endswith(('.jpg', '.png', '.txt')): \n",
    "                shutil.copy(os.path.join(root, file), destination_folder)\n"
   ]
  },
  {
   "cell_type": "code",
   "execution_count": 12,
   "metadata": {},
   "outputs": [
    {
     "name": "stdout",
     "output_type": "stream",
     "text": [
      "Files merged into dataset successfully!\n"
     ]
    }
   ],
   "source": [
    "# Loop in datasets to count total numbers of images and labels in each file\n",
    "for dataset in datasets:\n",
    "    for split in ['train', 'test', 'valid']:\n",
    "        image_folder = os.path.join(dataset, split, 'images')\n",
    "        if os.path.exists(image_folder):\n",
    "            merge_files(image_folder, image_destination, 'images')\n",
    "        \n",
    "        label_folder = os.path.join(dataset, split, 'labels')\n",
    "        if os.path.exists(label_folder):\n",
    "            merge_files(label_folder, label_destination, 'labels')\n",
    "            \n",
    "print(f\"Files merged into {combined_dataset} successfully!\")"
   ]
  },
  {
   "cell_type": "code",
   "execution_count": 13,
   "metadata": {},
   "outputs": [],
   "source": [
    "# Function to count files in a given folder\n",
    "def count_files(folder, file_types):\n",
    "    count = 0\n",
    "    for root, _, files in os.walk(folder):\n",
    "        for file in files:\n",
    "            if file.endswith(tuple(file_types)):\n",
    "                count += 1\n",
    "    return count"
   ]
  },
  {
   "cell_type": "code",
   "execution_count": 14,
   "metadata": {},
   "outputs": [],
   "source": [
    "# Initialize counters for combined totals\n",
    "total_image_count = 0\n",
    "total_label_count = 0\n",
    "\n",
    "# File types to check\n",
    "image_types = ['.jpg', '.png']\n",
    "label_types = ['.txt']"
   ]
  },
  {
   "cell_type": "code",
   "execution_count": 16,
   "metadata": {},
   "outputs": [
    {
     "name": "stdout",
     "output_type": "stream",
     "text": [
      "\n",
      "Counting files in dataset: fight detection.v12i.yolov8\n",
      " - Train images: 213\n",
      " - Train labels: 213\n",
      " - Test images: 28\n",
      " - Test labels: 28\n",
      " - Valid images: 59\n",
      " - Valid labels: 59\n",
      "Total images in fight detection.v12i.yolov8: 300\n",
      "Total labels in fight detection.v12i.yolov8: 300\n",
      "\n",
      "Counting files in dataset: gisc.v1i.yolov8\n",
      " - Train images: 636\n",
      " - Train labels: 636\n",
      " - Test images: 85\n",
      " - Test labels: 85\n",
      " - Valid images: 81\n",
      " - Valid labels: 81\n",
      "Total images in gisc.v1i.yolov8: 802\n",
      "Total labels in gisc.v1i.yolov8: 802\n",
      "\n",
      "Counting files in dataset: violence detection.v2i.yolov8\n",
      " - Train images: 1089\n",
      " - Train labels: 1089\n",
      "Total images in violence detection.v2i.yolov8: 1089\n",
      "Total labels in violence detection.v2i.yolov8: 1089\n"
     ]
    }
   ],
   "source": [
    "#Loop through each dataset and count files in train, test, and valid folders\n",
    "for dataset in datasets:\n",
    "    print(f\"\\nCounting files in dataset: {dataset}\")\n",
    "    \n",
    "    dataset_image_count = 0\n",
    "    dataset_label_count = 0\n",
    "\n",
    "    for split in ['train', 'test', 'valid']:\n",
    "        image_folder = os.path.join(dataset, split, 'images')\n",
    "        label_folder = os.path.join(dataset, split, 'labels')\n",
    "        \n",
    "        if os.path.exists(image_folder):\n",
    "            image_count = count_files(image_folder, image_types)\n",
    "            dataset_image_count += image_count\n",
    "            print(f\" - {split.capitalize()} images: {image_count}\")\n",
    "\n",
    "        if os.path.exists(label_folder):\n",
    "            label_count = count_files(label_folder, label_types)\n",
    "            dataset_label_count += label_count\n",
    "            print(f\" - {split.capitalize()} labels: {label_count}\")\n",
    "\n",
    "    # Update combined totals\n",
    "    total_image_count += dataset_image_count\n",
    "    total_label_count += dataset_label_count\n",
    "\n",
    "    # Print dataset totals\n",
    "    print(f\"Total images in {dataset}: {dataset_image_count}\")\n",
    "    print(f\"Total labels in {dataset}: {dataset_label_count}\")"
   ]
  },
  {
   "cell_type": "code",
   "execution_count": 17,
   "metadata": {},
   "outputs": [
    {
     "name": "stdout",
     "output_type": "stream",
     "text": [
      "\n",
      "Combined total across all datasets:\n",
      "Total images: 2191\n",
      "Total labels: 2191\n"
     ]
    }
   ],
   "source": [
    "# Print combined totals\n",
    "print(\"\\nCombined total across all datasets:\")\n",
    "print(f\"Total images: {total_image_count}\")\n",
    "print(f\"Total labels: {total_label_count}\")"
   ]
  }
 ],
 "metadata": {
  "kernelspec": {
   "display_name": "venv",
   "language": "python",
   "name": "python3"
  },
  "language_info": {
   "codemirror_mode": {
    "name": "ipython",
    "version": 3
   },
   "file_extension": ".py",
   "mimetype": "text/x-python",
   "name": "python",
   "nbconvert_exporter": "python",
   "pygments_lexer": "ipython3",
   "version": "3.10.1"
  }
 },
 "nbformat": 4,
 "nbformat_minor": 2
}
